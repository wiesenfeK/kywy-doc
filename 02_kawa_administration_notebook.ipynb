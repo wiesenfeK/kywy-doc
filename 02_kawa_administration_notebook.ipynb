{
 "cells": [
  {
   "cell_type": "markdown",
   "id": "e9518e38-24c5-4b60-a1c4-fb2edb097a1f",
   "metadata": {},
   "source": [
    "# KAWA Administration"
   ]
  },
  {
   "cell_type": "markdown",
   "id": "be9aa930-9106-4b25-8352-67e97d32fdac",
   "metadata": {},
   "source": [
    "Use the following snipper to authenticate in KAWA, using the credentials from the `.env` file."
   ]
  },
  {
   "cell_type": "code",
   "execution_count": 9,
   "id": "d6048a11-95e0-4c3f-997d-5fdf2bb5270d",
   "metadata": {
    "tags": []
   },
   "outputs": [
    {
     "name": "stdout",
     "output_type": "stream",
     "text": [
      "Authentication ok on http://127.0.0.1:8080, in workspace 1\n"
     ]
    }
   ],
   "source": [
    "from kywy.client.kawa_client import KawaClient as K\n",
    "\n",
    "kawa = K.load_client_from_environment()\n",
    "cmd = kawa.commands"
   ]
  },
  {
   "cell_type": "markdown",
   "id": "53180ff0-e23c-493c-82f2-def77c13c64f",
   "metadata": {},
   "source": [
    "## 1. User management\n",
    "\n",
    "\n",
    "### 1.a. Create users\n",
    "\n",
    "This snippet will create two users with the specified password and names and add them to the workspace called WAYNE.\n",
    "If the workspace does not exist, it will be created."
   ]
  },
  {
   "cell_type": "code",
   "execution_count": 15,
   "id": "ba47a5c5-e1bd-456a-849c-6d2433d702ec",
   "metadata": {
    "tags": []
   },
   "outputs": [],
   "source": [
    "cmd.create_users_in_workspace(\n",
    "    user_list=[\n",
    "        {\n",
    "            'email': 'bruce@wayne.com',\n",
    "            'password': 'aA1!dzfegrS$S',\n",
    "            'first_name': 'Bruce',\n",
    "            'last_name': 'Wayne',\n",
    "        },\n",
    "        {\n",
    "            'email': 'lucius@wayne.com',\n",
    "            'password': 'hts6Hrsgs%rte',\n",
    "            'first_name': 'Lucius',\n",
    "            'last_name': 'Fox',\n",
    "        },\n",
    "    ],\n",
    "    workspace_name='WAYNE',\n",
    "    \n",
    "    # Set this to True when your instance has a whitelist of user.\n",
    "    # DO NOT use if you are unsure. It will create a white list if it does not exit and \n",
    "    # potentially cut out every user who can authenticate.\n",
    "    add_users_to_whitelist=False,\n",
    ")"
   ]
  },
  {
   "cell_type": "markdown",
   "id": "3de29f26-cc6c-4bc4-a8bb-795389fbc6d7",
   "metadata": {},
   "source": [
    "### 1.b. Change the password for a user"
   ]
  },
  {
   "cell_type": "code",
   "execution_count": 19,
   "id": "9e848dbc-7d99-4ded-9956-7496c39a9228",
   "metadata": {
    "tags": []
   },
   "outputs": [],
   "source": [
    "cmd.change_user_password('lucius@wayne.com', 'bB7@klk45DSGgrs!op');"
   ]
  },
  {
   "cell_type": "markdown",
   "id": "22fcf0d7-75a0-4e4d-84f1-cbd792225084",
   "metadata": {
    "tags": []
   },
   "source": [
    "### 1.c. Change the role of a user\n",
    "\n",
    "The available roles in KAWA are `ADMIN_ROLE` and `READER_ROLE`.\n",
    "\n",
    "ADMIN users will be able to manage the application user accounts. They will also be granted all the privileges in KAWA, in particular: access to all workspapces and access to all data, regardless of Row Level and Column Level security policies.\n",
    "\n",
    "A third role is available which cannot be assigned (nor removed): `SETUP_ADMIN_ROLE`. Only one user in KAWA will have this privilege."
   ]
  },
  {
   "cell_type": "code",
   "execution_count": 26,
   "id": "f60b4a5c-4fa1-4ed0-ba43-0d92164154c6",
   "metadata": {
    "tags": []
   },
   "outputs": [],
   "source": [
    "cmd.replace_user_role(user_id='lucius@wayne.com', new_role='ADMIN_ROLE')\n",
    "cmd.replace_user_role(user_id='bruce@wayne.com', new_role='READER_ROLE');"
   ]
  },
  {
   "cell_type": "markdown",
   "id": "5b5ff04e-ce46-4dfe-ae0b-88dd7645b57d",
   "metadata": {},
   "source": [
    "### 1.d. Replace the overall permissions of users\n",
    "\n",
    "Those permissions apply to one user across the entire app, regardless of the workspace in which the user is authenticated.\n",
    "\n",
    "The available permissions are:\n",
    "- GENERATIVE_AI: Grant to the user the access to AI features on all workspaces"
   ]
  },
  {
   "cell_type": "code",
   "execution_count": 30,
   "id": "b567c921-5c31-4971-a6f4-3b96cc9dd0db",
   "metadata": {
    "tags": []
   },
   "outputs": [],
   "source": [
    "cmd.replace_permissions(\n",
    "    user_id_list=[ 'lucius@wayne.com'],\n",
    "    permissions=['GENERATIVE_AI']\n",
    ");"
   ]
  },
  {
   "cell_type": "markdown",
   "id": "9375e995-8d93-4b07-aea6-c43c5aa02c80",
   "metadata": {},
   "source": [
    "### 1.e. Replace the forbidden data source types for users\n",
    "\n",
    "This will restrict type of data users can upload into KAWA.\n",
    "It does not affect the data that users can read from KAWA.\n",
    "\n",
    "The available types are:\n",
    "- TRANSFORMATION: Allows to create transformed datasource from sheets\n",
    "- TIME_SERIES: Allows to create specific TimeSeries datasources for advanced TimeSeries Analytics\n",
    "- USER_FILE: Allows to upload files into KAWA (csv, csv.gz, etc...)\n",
    "- EXTERNAL_SYSTEM: Allows to set up ETLs from external systems such as a database, google sheet, etc..\n",
    "- PYTHON_CLIENT: Allows to load data into KAWA via the python data loader\n",
    "- LIVE_CONNECT: Allows to add tables from the underlying data warehouse\n"
   ]
  },
  {
   "cell_type": "code",
   "execution_count": 34,
   "id": "07b3dfc2-68fc-41d5-8b98-05472d8c931d",
   "metadata": {
    "tags": []
   },
   "outputs": [],
   "source": [
    "cmd.replace_forbidden_data_types(\n",
    "    user_id_list=[ 'lucius@wayne.com'],\n",
    "    forbidden_types=['TRANSFORMATION','TIME_SERIES','LIVE_CONNECT', 'EXTERNAL_SYSTEM']\n",
    ");"
   ]
  },
  {
   "cell_type": "markdown",
   "id": "abc095ce-fa2c-4236-aa19-082ed1ee459a",
   "metadata": {},
   "source": [
    "### 1.f Activate and Deactivate use accounts\n",
    "\n",
    "This allows administrator to deactivate or activate user accounts. Once a user's account has been deactivated, they immediately lose access to KAWA, GUI and Python client."
   ]
  },
  {
   "cell_type": "code",
   "execution_count": 37,
   "id": "b89b6b5f-6107-42ff-94c6-e35e4dd7d16a",
   "metadata": {
    "tags": []
   },
   "outputs": [],
   "source": [
    "cmd.toggle_users_status(\n",
    "    user_id_list=[ 'lucius@wayne.com'],\n",
    "    active=True\n",
    ");"
   ]
  },
  {
   "cell_type": "markdown",
   "id": "8b35d879-a956-4fad-8b5f-a417d5b181b6",
   "metadata": {},
   "source": [
    "## 2. Global management\n",
    "\n",
    "### 2.a Activate Features\n",
    "\n",
    "This will toggle the feature flags of the KAWA instance.\n",
    "The available flags are:\n",
    "\n",
    "- data-patching (Allows users to edit values within the grid views)\n",
    "- tutorial-videos (Add a list of videos in the right vertical section)\n",
    "- support-chat (Enable support chat with kawa.ai team)\n",
    "- ai-support (Enable AI features in the app)\n",
    "- list-principals (Allow to show all the users in user selection lists - like members of workspaces etc..)\n",
    "- scripts (Enable script support)\n",
    "- automations (Enable automation support)\n",
    "- dashboard-export (Enable dashboard export)\n",
    "- data-sample (Shows a list of samples in the datasource section)\n"
   ]
  },
  {
   "cell_type": "code",
   "execution_count": 16,
   "id": "5a179caa-820c-4be9-8c13-798721f498aa",
   "metadata": {
    "tags": []
   },
   "outputs": [],
   "source": [
    "cmd.toggle_feature(feature_name='data-samples', is_enabled=True)\n",
    "cmd.toggle_feature(feature_name='list-principals', is_enabled=True)\n",
    "cmd.toggle_feature(feature_name='automations', is_enabled=True);"
   ]
  }
 ],
 "metadata": {
  "kernelspec": {
   "display_name": "Python 3 (ipykernel)",
   "language": "python",
   "name": "python3"
  },
  "language_info": {
   "codemirror_mode": {
    "name": "ipython",
    "version": 3
   },
   "file_extension": ".py",
   "mimetype": "text/x-python",
   "name": "python",
   "nbconvert_exporter": "python",
   "pygments_lexer": "ipython3",
   "version": "3.10.13"
  }
 },
 "nbformat": 4,
 "nbformat_minor": 5
}
